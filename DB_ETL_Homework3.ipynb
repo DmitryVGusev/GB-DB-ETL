{
 "cells": [
  {
   "cell_type": "markdown",
   "metadata": {},
   "source": [
    "# Базы данных для аналитиков. Основы ETL\n",
    "## Домашнее задание 3. Типовые методы анализа данных"
   ]
  },
  {
   "cell_type": "code",
   "execution_count": 113,
   "metadata": {},
   "outputs": [],
   "source": [
    "from ipywidgets import HTML\n",
    "from IPython import display\n",
    "import pandas as pd\n",
    "import numpy as np\n",
    "import sqlite3\n",
    "from matplotlib import pyplot as plt"
   ]
  },
  {
   "cell_type": "markdown",
   "metadata": {},
   "source": [
    "Главная задача: сделать RFM-анализ на основе данных по продажам за 2 года (из предыдущего дз).\n",
    "\n",
    "Что делаем:\n",
    "1. Определяем критерии для каждой буквы R, F, M (т.е. к примеру, R – 3 для клиентов, которые покупали <= 30 дней от последней даты в базе, R – 2 для клиентов, которые покупали > 30 и менее 60 дней от последней даты в базе и т.д.)\n",
    "2. Для каждого пользователя получаем набор из 3 цифр (от 111 до 333, где 333 – самые классные пользователи)\n",
    "3. Вводим группировку, к примеру, 333 и 233 – это Vip, 1XX – это Lost, остальные Regular ( можете ввести боле глубокую сегментацию)\n",
    "4. Для каждой группы из п. 3 находим кол-во пользователей, кот. попали в них и % товарооборота, которое они сделали на эти 2 года.\n",
    "5. Проверяем, что общее кол-во пользователей бьется с суммой кол-во пользователей по группам из п. 3 (если у вас есть логические ошибки в создании групп, у вас не собьются цифры). То же самое делаем и по деньгам.\n",
    "\n",
    "Результаты присылаем скрином или в пдф (где можно увидеть название группы, правила попадания в группу, кол-во пользователей, их товарооборот, а так же процент по кол-ву пользвателей и по деньгам)"
   ]
  },
  {
   "cell_type": "code",
   "execution_count": 4,
   "metadata": {},
   "outputs": [
    {
     "data": {
      "application/vnd.jupyter.widget-view+json": {
       "model_id": "596abc384e444af4a6a8f406256b0f0a",
       "version_major": 2,
       "version_minor": 0
      },
      "text/plain": [
       "HTML(value='<iframe width=\"560\" height=\"315\" src=\"https://www.youtube.com/embed/65kLpVLV464\" frameborder=\"0\" a…"
      ]
     },
     "metadata": {},
     "output_type": "display_data"
    }
   ],
   "source": [
    "HTML('<iframe width=\"560\" height=\"315\" src=\"https://www.youtube.com/embed/65kLpVLV464\" frameborder=\"0\" allow=\"accelerometer; autoplay; encrypted-media; gyroscope; picture-in-picture\" allowfullscreen></iframe>')"
   ]
  },
  {
   "cell_type": "markdown",
   "metadata": {},
   "source": [
    "### Решение\n",
    "#### Подключение к базе"
   ]
  },
  {
   "cell_type": "code",
   "execution_count": 14,
   "metadata": {},
   "outputs": [],
   "source": [
    "conn = sqlite3.connect(\"h1.db\")"
   ]
  },
  {
   "cell_type": "markdown",
   "metadata": {},
   "source": [
    "#### Составление сводной таблицы и помещения в датасет"
   ]
  },
  {
   "cell_type": "code",
   "execution_count": 15,
   "metadata": {},
   "outputs": [
    {
     "data": {
      "text/plain": [
       "Index(['id_o', 'user_id', 'price', 'o_date'], dtype='object')"
      ]
     },
     "execution_count": 15,
     "metadata": {},
     "output_type": "execute_result"
    }
   ],
   "source": [
    "df.columns"
   ]
  },
  {
   "cell_type": "code",
   "execution_count": 11,
   "metadata": {},
   "outputs": [],
   "source": [
    "df.to_csv('orders.csv')"
   ]
  },
  {
   "cell_type": "code",
   "execution_count": 72,
   "metadata": {},
   "outputs": [],
   "source": [
    "query = \"\"\"\n",
    "SELECT \n",
    "    user_id,\n",
    "    MAX(o_date) as 'last_date',\n",
    "    COUNT(id_o) as 'orders_count',\n",
    "    SUM(price) as 'orders_sum'\n",
    "FROM orders\n",
    "GROUP BY user_id\n",
    "\"\"\""
   ]
  },
  {
   "cell_type": "code",
   "execution_count": 73,
   "metadata": {},
   "outputs": [],
   "source": [
    "df = pd.read_sql_query(query, conn, parse_dates=['last_date'])"
   ]
  },
  {
   "cell_type": "code",
   "execution_count": 74,
   "metadata": {},
   "outputs": [
    {
     "name": "stdout",
     "output_type": "stream",
     "text": [
      "<class 'pandas.core.frame.DataFrame'>\n",
      "RangeIndex: 1015119 entries, 0 to 1015118\n",
      "Data columns (total 4 columns):\n",
      "user_id         1015119 non-null object\n",
      "last_date       1015119 non-null datetime64[ns]\n",
      "orders_count    1015119 non-null int64\n",
      "orders_sum      1015119 non-null float64\n",
      "dtypes: datetime64[ns](1), float64(1), int64(1), object(1)\n",
      "memory usage: 31.0+ MB\n"
     ]
    }
   ],
   "source": [
    "df.info()"
   ]
  },
  {
   "cell_type": "markdown",
   "metadata": {},
   "source": [
    "#### Подготовка к RFM-анализу"
   ]
  },
  {
   "cell_type": "markdown",
   "metadata": {},
   "source": [
    "Оценим количество покупок по временной линии - это поможет нам задать критерии для R-анализа"
   ]
  },
  {
   "cell_type": "code",
   "execution_count": 83,
   "metadata": {},
   "outputs": [
    {
     "data": {
      "text/plain": [
       "(1840.0, 9298.0)"
      ]
     },
     "execution_count": 83,
     "metadata": {},
     "output_type": "execute_result"
    }
   ],
   "source": [
    "df.orders_sum.quantile(.50),df.orders_sum.quantile(.90),\n"
   ]
  },
  {
   "cell_type": "code",
   "execution_count": 78,
   "metadata": {},
   "outputs": [
    {
     "data": {
      "text/plain": [
       "<matplotlib.axes._subplots.AxesSubplot at 0x1a7e217dd0>"
      ]
     },
     "execution_count": 78,
     "metadata": {},
     "output_type": "execute_result"
    },
    {
     "data": {
      "image/png": "[encoded data removed]",
      "text/plain": [
       "<Figure size 432x288 with 1 Axes>"
      ]
     },
     "metadata": {
      "needs_background": "light"
     },
     "output_type": "display_data"
    }
   ],
   "source": [
    "df.orders_sum.hist()"
   ]
  },
  {
   "cell_type": "code",
   "execution_count": 62,
   "metadata": {},
   "outputs": [
    {
     "data": {
      "text/plain": [
       "<matplotlib.axes._subplots.AxesSubplot at 0x1a7e8a0f10>"
      ]
     },
     "execution_count": 62,
     "metadata": {},
     "output_type": "execute_result"
    },
    {
     "data": {
      "image/png": "[encoded data removed]",
      "text/plain": [
       "<Figure size 648x360 with 1 Axes>"
      ]
     },
     "metadata": {
      "needs_background": "light"
     },
     "output_type": "display_data"
    }
   ],
   "source": [
    "df.last_date.hist(figsize=(9,5));"
   ]
  },
  {
   "cell_type": "markdown",
   "metadata": {},
   "source": [
    "Последняя дата в базе:"
   ]
  },
  {
   "cell_type": "code",
   "execution_count": 91,
   "metadata": {},
   "outputs": [
    {
     "data": {
      "text/plain": [
       "Timestamp('2017-12-31 00:00:00')"
      ]
     },
     "execution_count": 91,
     "metadata": {},
     "output_type": "execute_result"
    }
   ],
   "source": [
    "max_date = df.last_date.max()\n",
    "max_date"
   ]
  },
  {
   "cell_type": "markdown",
   "metadata": {},
   "source": [
    "Напишем функции для RFM-анализа"
   ]
  },
  {
   "cell_type": "code",
   "execution_count": 85,
   "metadata": {},
   "outputs": [],
   "source": [
    "def r_classification(last_date):\n",
    "    \"\"\"\n",
    "    R – 3 для клиентов, которые покупали <= 30 дней от последней даты в базе, \n",
    "    R – 2 для клиентов, которые покупали > 30 и менее 60 дней от последней даты в базе\n",
    "    R - 1 для клиентов, которые покупали > 60 дней назад от последней даты в базе\n",
    "    \"\"\"\n",
    "    day_delta = (max_date - last_date).days\n",
    "    if day_delta <= 30:\n",
    "        return '3'\n",
    "    elif day_delta <= 60:\n",
    "        return '2'\n",
    "    else:\n",
    "        return '1'\n",
    "    \n",
    "def f_classification(orders):\n",
    "    \"\"\"\n",
    "    F - 3 для клиентов, совершивших >= 30 покупок\n",
    "    F - 2 для клиентов, совершивших от 10 до 30 покупок\n",
    "    F - 1 для клиентов, совершивших менее 10 покупок\n",
    "    \"\"\"\n",
    "    if orders >= 30:\n",
    "        return '3'\n",
    "    elif orders >= 10:\n",
    "        return '2'\n",
    "    else:\n",
    "        return '1'\n",
    "    \n",
    "def m_classification(orders_sum):\n",
    "    \"\"\"\n",
    "    M - 3 для клиентов, совершивших покупки на сумму >= 10.000 \n",
    "    M - 2 для клиентов, совершивших покупки на сумму от 2.000 до 10.000 \n",
    "    M - 1 для клиентов, совершивших покупки на сумму < 2.000\n",
    "    \"\"\"\n",
    "    if orders_sum >= 10000:\n",
    "        return '3'\n",
    "    elif orders_sum >= 2000:\n",
    "        return '2'\n",
    "    else:\n",
    "        return '1'"
   ]
  },
  {
   "cell_type": "code",
   "execution_count": 86,
   "metadata": {},
   "outputs": [],
   "source": [
    "df['r'] = df.last_date.apply(r_classification)\n",
    "df['f'] = df.orders_count.apply(f_classification)\n",
    "df['m'] = df.orders_sum.apply(m_classification)"
   ]
  },
  {
   "cell_type": "code",
   "execution_count": 93,
   "metadata": {},
   "outputs": [],
   "source": [
    "df['rfm'] = df[['r', 'f', 'm']].apply(lambda x: f'{x[0]}{x[1]}{x[2]}', axis = 1)"
   ]
  },
  {
   "cell_type": "markdown",
   "metadata": {},
   "source": [
    "### Вводим группировку, к примеру, 333 и 233 – это Vip, 1XX – это Lost, остальные Regular"
   ]
  },
  {
   "cell_type": "code",
   "execution_count": 94,
   "metadata": {},
   "outputs": [],
   "source": [
    "def rfm_classify(rfm: str):\n",
    "    if rfm in ['333', '233']:\n",
    "        return 'VIP'\n",
    "    elif rfm.startswith('1'):\n",
    "        return 'Lost'\n",
    "    else:\n",
    "        return 'Regular'"
   ]
  },
  {
   "cell_type": "code",
   "execution_count": 95,
   "metadata": {},
   "outputs": [],
   "source": [
    "df['status'] = df.rfm.apply(rfm_classify)"
   ]
  },
  {
   "cell_type": "markdown",
   "metadata": {},
   "source": [
    "Построим гистограмму распределения клиентов во стастусу"
   ]
  },
  {
   "cell_type": "code",
   "execution_count": 96,
   "metadata": {},
   "outputs": [
    {
     "data": {
      "text/plain": [
       "<matplotlib.axes._subplots.AxesSubplot at 0x1a85b35e10>"
      ]
     },
     "execution_count": 96,
     "metadata": {},
     "output_type": "execute_result"
    },
    {
     "data": {
      "image/png": "[encoded data removed]",
      "text/plain": [
       "<Figure size 432x288 with 1 Axes>"
      ]
     },
     "metadata": {
      "needs_background": "light"
     },
     "output_type": "display_data"
    }
   ],
   "source": [
    "df.status.hist()"
   ]
  },
  {
   "cell_type": "markdown",
   "metadata": {},
   "source": [
    "### Для каждой группы из п. 3 находим кол-во пользователей, кот. попали в них и % товарооборота, которое они сделали на эти 2 года."
   ]
  },
  {
   "cell_type": "code",
   "execution_count": 111,
   "metadata": {},
   "outputs": [],
   "source": [
    "result = df.pivot_table(\n",
    "    ['user_id', 'orders_sum'],\n",
    "    index='status',\n",
    "    aggfunc={\n",
    "        'user_id': np.ma.count,\n",
    "        'orders_sum': sum\n",
    "    },\n",
    "#     columns='status', \n",
    "    margins=True\n",
    ")"
   ]
  },
  {
   "cell_type": "markdown",
   "metadata": {},
   "source": [
    "Получим сводную таблицу по %товарооборота и количеству клиентов в категории"
   ]
  },
  {
   "cell_type": "code",
   "execution_count": 125,
   "metadata": {},
   "outputs": [
    {
     "data": {
      "text/html": [
       "<div>\n",
       "<style scoped>\n",
       "    .dataframe tbody tr th:only-of-type {\n",
       "        vertical-align: middle;\n",
       "    }\n",
       "\n",
       "    .dataframe tbody tr th {\n",
       "        vertical-align: top;\n",
       "    }\n",
       "\n",
       "    .dataframe thead th {\n",
       "        text-align: right;\n",
       "    }\n",
       "</style>\n",
       "<table border=\"1\" class=\"dataframe\">\n",
       "  <thead>\n",
       "    <tr style=\"text-align: right;\">\n",
       "      <th></th>\n",
       "      <th>orders_sum</th>\n",
       "      <th>user_id</th>\n",
       "    </tr>\n",
       "    <tr>\n",
       "      <th>status</th>\n",
       "      <th></th>\n",
       "      <th></th>\n",
       "    </tr>\n",
       "  </thead>\n",
       "  <tbody>\n",
       "    <tr>\n",
       "      <td>Lost</td>\n",
       "      <td>2971660533</td>\n",
       "      <td>788069</td>\n",
       "    </tr>\n",
       "    <tr>\n",
       "      <td>Regular</td>\n",
       "      <td>1278036258</td>\n",
       "      <td>225032</td>\n",
       "    </tr>\n",
       "    <tr>\n",
       "      <td>VIP</td>\n",
       "      <td>292209817</td>\n",
       "      <td>2018</td>\n",
       "    </tr>\n",
       "    <tr>\n",
       "      <td>All</td>\n",
       "      <td>4541906608</td>\n",
       "      <td>1015119</td>\n",
       "    </tr>\n",
       "  </tbody>\n",
       "</table>\n",
       "</div>"
      ],
      "text/plain": [
       "         orders_sum  user_id\n",
       "status                      \n",
       "Lost     2971660533   788069\n",
       "Regular  1278036258   225032\n",
       "VIP       292209817     2018\n",
       "All      4541906608  1015119"
      ]
     },
     "execution_count": 125,
     "metadata": {},
     "output_type": "execute_result"
    }
   ],
   "source": [
    "pd.options.display.float_format = '{0:.0f}'.format\n",
    "result"
   ]
  },
  {
   "cell_type": "markdown",
   "metadata": {},
   "source": [
    "### Проверяем, что общее кол-во пользователей бьется с суммой кол-во пользователей по группам. То же самое делаем и по деньгам."
   ]
  },
  {
   "cell_type": "code",
   "execution_count": 130,
   "metadata": {},
   "outputs": [
    {
     "name": "stdout",
     "output_type": "stream",
     "text": [
      "Сумма заказов по деньгам:  4541906608.0\n",
      "Общее количество клиентов: 1015119\n"
     ]
    }
   ],
   "source": [
    "print('Сумма заказов по деньгам: ', df.orders_sum.sum())\n",
    "print('Общее количество клиентов:', df.user_id.count())"
   ]
  },
  {
   "cell_type": "markdown",
   "metadata": {},
   "source": [
    "_В заключении, могу сказать что критерии подобраны неверно, исходя из результатирующей статистики. Однако, для этого надо разбираться в предметной области. Данная работа показывает что по крайней мере логика верна._"
   ]
  }
 ],
 "metadata": {
  "kernelspec": {
   "display_name": "Python 3",
   "language": "python",
   "name": "python3"
  },
  "language_info": {
   "codemirror_mode": {
    "name": "ipython",
    "version": 3
   },
   "file_extension": ".py",
   "mimetype": "text/x-python",
   "name": "python",
   "nbconvert_exporter": "python",
   "pygments_lexer": "ipython3",
   "version": "3.7.4"
  }
 },
 "nbformat": 4,
 "nbformat_minor": 2
}
