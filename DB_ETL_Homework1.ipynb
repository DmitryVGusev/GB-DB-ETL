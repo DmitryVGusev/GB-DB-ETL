{
 "cells": [
  {
   "cell_type": "markdown",
   "metadata": {},
   "source": [
    "# Базы данных для аналитиков. Основы ETL\n",
    "## Домашнее задание 1. Аналитика в бизнес-задачах."
   ]
  },
  {
   "cell_type": "markdown",
   "metadata": {},
   "source": [
    "В это домашней работе я буду использоавать связку `sqlite3` + `jupyter-notebook`"
   ]
  },
  {
   "cell_type": "markdown",
   "metadata": {},
   "source": [
    "Подгружаем модуль `SQL`"
   ]
  },
  {
   "cell_type": "code",
   "execution_count": 1,
   "metadata": {},
   "outputs": [],
   "source": [
    "%load_ext sql"
   ]
  },
  {
   "cell_type": "markdown",
   "metadata": {},
   "source": [
    "#### 1. Залить в свою БД данные по продажам\n",
    "_Идея закинуть csv-файлы в `sqlite` оказалась не просто выполнимая.\n",
    "Во-первых, формат даты не подходит для `sqlite` - пришлось использовать регулярные выражения чтобы конвертировать дату:_"
   ]
  },
  {
   "cell_type": "code",
   "execution_count": 9,
   "metadata": {},
   "outputs": [],
   "source": [
    "\"\"\"\n",
    "\n",
    "# !/bin/bash\n",
    "# Конвертация даты\n",
    "sed -E -i  's,([0-9]{2})\\.([0-9]{2})\\.([0-9]{4}),\\3-\\2-\\1,g' orders_20190822.csv\n",
    "\n",
    "# Создание базы sqlite3 и импортирование csv\n",
    "echo '\n",
    ".mode csv  \n",
    ".separator \";\"\n",
    ".import orders_20190822.csv orders\n",
    ".import basket_20190922.csv basket\n",
    "' | sqlite3 h1.db\n",
    "\n",
    "\"\"\";"
   ]
  },
  {
   "cell_type": "code",
   "execution_count": 2,
   "metadata": {},
   "outputs": [
    {
     "data": {
      "text/plain": [
       "'Connected: @h1.db'"
      ]
     },
     "execution_count": 2,
     "metadata": {},
     "output_type": "execute_result"
    }
   ],
   "source": [
    "%sql sqlite:///h1.db"
   ]
  },
  {
   "cell_type": "markdown",
   "metadata": {},
   "source": [
    "#### 2. Проанализировать, какой период данных выгружен"
   ]
  },
  {
   "cell_type": "code",
   "execution_count": 3,
   "metadata": {},
   "outputs": [
    {
     "name": "stdout",
     "output_type": "stream",
     "text": [
      " * sqlite:///h1.db\n",
      "Done.\n"
     ]
    },
    {
     "data": {
      "text/html": [
       "<table>\n",
       "    <tr>\n",
       "        <th>Начало временного периода</th>\n",
       "        <th>Конец временного периода</th>\n",
       "    </tr>\n",
       "    <tr>\n",
       "        <td>2016-01-01</td>\n",
       "        <td>2017-12-31</td>\n",
       "    </tr>\n",
       "</table>"
      ],
      "text/plain": [
       "[('2016-01-01', '2017-12-31')]"
      ]
     },
     "execution_count": 3,
     "metadata": {},
     "output_type": "execute_result"
    }
   ],
   "source": [
    "%%sql \n",
    "SELECT \n",
    "    min(o_date) as 'Начало временного периода', \n",
    "    max(o_date) as 'Конец временного периода'\n",
    "FROM orders;"
   ]
  },
  {
   "cell_type": "markdown",
   "metadata": {},
   "source": [
    "#### 3. Посчитать кол-во строк, кол-во заказов и кол-во уникальных пользователей, кот совершали заказы.\n",
    "_Не совсем понятно по поводу количества строк, потому опустим этот признак_"
   ]
  },
  {
   "cell_type": "code",
   "execution_count": 4,
   "metadata": {},
   "outputs": [
    {
     "name": "stdout",
     "output_type": "stream",
     "text": [
      " * sqlite:///h1.db\n",
      "Done.\n"
     ]
    },
    {
     "data": {
      "text/html": [
       "<table>\n",
       "    <tr>\n",
       "        <th>Количество заказов</th>\n",
       "        <th>Количество уникальных пользователей</th>\n",
       "    </tr>\n",
       "    <tr>\n",
       "        <td>2002804</td>\n",
       "        <td>1015119</td>\n",
       "    </tr>\n",
       "</table>"
      ],
      "text/plain": [
       "[(2002804, 1015119)]"
      ]
     },
     "execution_count": 4,
     "metadata": {},
     "output_type": "execute_result"
    }
   ],
   "source": [
    "%%sql\n",
    "SELECT\n",
    "    count(o.id_o) as 'Количество заказов',\n",
    "    count(DISTINCT o.user_id) as 'Количество уникальных пользователей'\n",
    "FROM orders o;"
   ]
  },
  {
   "cell_type": "markdown",
   "metadata": {},
   "source": [
    "####  4. По годам посчитать средний чек, среднее кол-во заказов на пользователя, сделать вывод , как изменялись это показатели Год от года."
   ]
  },
  {
   "cell_type": "code",
   "execution_count": 5,
   "metadata": {
    "scrolled": true
   },
   "outputs": [
    {
     "name": "stdout",
     "output_type": "stream",
     "text": [
      " * sqlite:///h1.db\n",
      "Done.\n"
     ]
    },
    {
     "data": {
      "text/html": [
       "<table>\n",
       "    <tr>\n",
       "        <th>Средний чек</th>\n",
       "        <th>Среднее количество заказов на пользователя</th>\n",
       "        <th>Год</th>\n",
       "    </tr>\n",
       "    <tr>\n",
       "        <td>2184.3714636013306</td>\n",
       "        <td>2.67649160173627</td>\n",
       "        <td>2016</td>\n",
       "    </tr>\n",
       "    <tr>\n",
       "        <td>2427.0430382262994</td>\n",
       "        <td>1.423650107801911</td>\n",
       "        <td>2017</td>\n",
       "    </tr>\n",
       "</table>"
      ],
      "text/plain": [
       "[(2184.3714636013306, 2.67649160173627, '2016'),\n",
       " (2427.0430382262994, 1.423650107801911, '2017')]"
      ]
     },
     "execution_count": 5,
     "metadata": {},
     "output_type": "execute_result"
    }
   ],
   "source": [
    "%%sql\n",
    "SELECT \n",
    "    AVG(\"Средний чек\") as 'Средний чек', \n",
    "    AVG(\"Количество заказов\") as 'Среднее количество заказов на пользователя', \n",
    "    \"Год\"\n",
    "FROM (\n",
    "    SELECT \n",
    "        avg(o.price) as 'Средний чек', \n",
    "        count(o.id_o) as 'Количество заказов', \n",
    "        o.user_id as 'Пользователь', \n",
    "        strftime('%Y', o_date) as 'Год'\n",
    "    FROM orders o\n",
    "    GROUP BY o.user_id\n",
    ")\n",
    "GROUP BY \"Год\"\n"
   ]
  },
  {
   "cell_type": "markdown",
   "metadata": {},
   "source": [
    "#### 5. Найти кол-во пользователей, которые покупали в одном году и перестали покупать в следующем."
   ]
  },
  {
   "cell_type": "code",
   "execution_count": 6,
   "metadata": {},
   "outputs": [
    {
     "name": "stdout",
     "output_type": "stream",
     "text": [
      " * sqlite:///h1.db\n",
      "Done.\n"
     ]
    },
    {
     "data": {
      "text/html": [
       "<table>\n",
       "    <tr>\n",
       "        <th>Количество пользователей, переставших покупать в новом году</th>\n",
       "    </tr>\n",
       "    <tr>\n",
       "        <td>445092</td>\n",
       "    </tr>\n",
       "</table>"
      ],
      "text/plain": [
       "[(445092,)]"
      ]
     },
     "execution_count": 6,
     "metadata": {},
     "output_type": "execute_result"
    }
   ],
   "source": [
    "%%sql\n",
    "SELECT\n",
    "    count(DISTINCT user_id) as 'Количество пользователей, переставших покупать в новом году'\n",
    "FROM orders\n",
    "WHERE \n",
    "    strftime('%Y', o_date) = '2016'\n",
    "    and strftime('%Y', o_date) <> '2017'\n",
    ";"
   ]
  },
  {
   "cell_type": "markdown",
   "metadata": {},
   "source": [
    "#### 6. Найти IDсамого активного по кол-ву покупок пользователя. "
   ]
  },
  {
   "cell_type": "code",
   "execution_count": 7,
   "metadata": {},
   "outputs": [
    {
     "name": "stdout",
     "output_type": "stream",
     "text": [
      " * sqlite:///h1.db\n",
      "Done.\n"
     ]
    },
    {
     "data": {
      "text/html": [
       "<table>\n",
       "    <tr>\n",
       "        <th>user_id</th>\n",
       "        <th>Количесвто покупок</th>\n",
       "    </tr>\n",
       "    <tr>\n",
       "        <td>765861</td>\n",
       "        <td>3183</td>\n",
       "    </tr>\n",
       "</table>"
      ],
      "text/plain": [
       "[('765861', 3183)]"
      ]
     },
     "execution_count": 7,
     "metadata": {},
     "output_type": "execute_result"
    }
   ],
   "source": [
    "%%sql\n",
    "SELECT user_id, \"Количесвто покупок\"\n",
    "FROM (\n",
    "    SELECT\n",
    "        user_id, \n",
    "        count(id_o) as 'Количесвто покупок'\n",
    "    FROM orders\n",
    "    GROUP BY user_id\n",
    ")\n",
    "ORDER BY \"Количесвто покупок\" DESC\n",
    "LIMIT 1;"
   ]
  }
 ],
 "metadata": {
  "kernelspec": {
   "display_name": "Python 3",
   "language": "python",
   "name": "python3"
  },
  "language_info": {
   "codemirror_mode": {
    "name": "ipython",
    "version": 3
   },
   "file_extension": ".py",
   "mimetype": "text/x-python",
   "name": "python",
   "nbconvert_exporter": "python",
   "pygments_lexer": "ipython3",
   "version": "3.7.3"
  }
 },
 "nbformat": 4,
 "nbformat_minor": 2
}
